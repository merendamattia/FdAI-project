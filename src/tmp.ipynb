{
 "cells": [
  {
   "cell_type": "code",
   "execution_count": 1,
   "id": "9ea8f97f",
   "metadata": {},
   "outputs": [
    {
     "name": "stdout",
     "output_type": "stream",
     "text": [
      "/home/jovyan/src\n"
     ]
    }
   ],
   "source": [
    "%cd ~/src"
   ]
  },
  {
   "cell_type": "code",
   "execution_count": 2,
   "id": "ed9f8746",
   "metadata": {},
   "outputs": [
    {
     "data": {
      "text/html": [
       "<div>\n",
       "<style scoped>\n",
       "    .dataframe tbody tr th:only-of-type {\n",
       "        vertical-align: middle;\n",
       "    }\n",
       "\n",
       "    .dataframe tbody tr th {\n",
       "        vertical-align: top;\n",
       "    }\n",
       "\n",
       "    .dataframe thead th {\n",
       "        text-align: right;\n",
       "    }\n",
       "</style>\n",
       "<table border=\"1\" class=\"dataframe\">\n",
       "  <thead>\n",
       "    <tr style=\"text-align: right;\">\n",
       "      <th></th>\n",
       "      <th>age</th>\n",
       "      <th>workclass</th>\n",
       "      <th>fnlwgt</th>\n",
       "      <th>education</th>\n",
       "      <th>education-num</th>\n",
       "      <th>marital-status</th>\n",
       "      <th>occupation</th>\n",
       "      <th>relationship</th>\n",
       "      <th>race</th>\n",
       "      <th>sex</th>\n",
       "      <th>capital-gain</th>\n",
       "      <th>capital-loss</th>\n",
       "      <th>hours-per-week</th>\n",
       "      <th>native-country</th>\n",
       "      <th>salary</th>\n",
       "    </tr>\n",
       "  </thead>\n",
       "  <tbody>\n",
       "    <tr>\n",
       "      <th>0</th>\n",
       "      <td>39</td>\n",
       "      <td>State-gov</td>\n",
       "      <td>77516</td>\n",
       "      <td>Bachelors</td>\n",
       "      <td>13</td>\n",
       "      <td>Never-married</td>\n",
       "      <td>Adm-clerical</td>\n",
       "      <td>Not-in-family</td>\n",
       "      <td>White</td>\n",
       "      <td>Male</td>\n",
       "      <td>2174</td>\n",
       "      <td>0</td>\n",
       "      <td>40</td>\n",
       "      <td>United-States</td>\n",
       "      <td>&lt;=50K</td>\n",
       "    </tr>\n",
       "    <tr>\n",
       "      <th>1</th>\n",
       "      <td>50</td>\n",
       "      <td>Self-emp-not-inc</td>\n",
       "      <td>83311</td>\n",
       "      <td>Bachelors</td>\n",
       "      <td>13</td>\n",
       "      <td>Married-civ-spouse</td>\n",
       "      <td>Exec-managerial</td>\n",
       "      <td>Husband</td>\n",
       "      <td>White</td>\n",
       "      <td>Male</td>\n",
       "      <td>0</td>\n",
       "      <td>0</td>\n",
       "      <td>13</td>\n",
       "      <td>United-States</td>\n",
       "      <td>&lt;=50K</td>\n",
       "    </tr>\n",
       "    <tr>\n",
       "      <th>2</th>\n",
       "      <td>38</td>\n",
       "      <td>Private</td>\n",
       "      <td>215646</td>\n",
       "      <td>HS-grad</td>\n",
       "      <td>9</td>\n",
       "      <td>Divorced</td>\n",
       "      <td>Handlers-cleaners</td>\n",
       "      <td>Not-in-family</td>\n",
       "      <td>White</td>\n",
       "      <td>Male</td>\n",
       "      <td>0</td>\n",
       "      <td>0</td>\n",
       "      <td>40</td>\n",
       "      <td>United-States</td>\n",
       "      <td>&lt;=50K</td>\n",
       "    </tr>\n",
       "    <tr>\n",
       "      <th>3</th>\n",
       "      <td>53</td>\n",
       "      <td>Private</td>\n",
       "      <td>234721</td>\n",
       "      <td>11th</td>\n",
       "      <td>7</td>\n",
       "      <td>Married-civ-spouse</td>\n",
       "      <td>Handlers-cleaners</td>\n",
       "      <td>Husband</td>\n",
       "      <td>Black</td>\n",
       "      <td>Male</td>\n",
       "      <td>0</td>\n",
       "      <td>0</td>\n",
       "      <td>40</td>\n",
       "      <td>United-States</td>\n",
       "      <td>&lt;=50K</td>\n",
       "    </tr>\n",
       "    <tr>\n",
       "      <th>4</th>\n",
       "      <td>28</td>\n",
       "      <td>Private</td>\n",
       "      <td>338409</td>\n",
       "      <td>Bachelors</td>\n",
       "      <td>13</td>\n",
       "      <td>Married-civ-spouse</td>\n",
       "      <td>Prof-specialty</td>\n",
       "      <td>Wife</td>\n",
       "      <td>Black</td>\n",
       "      <td>Female</td>\n",
       "      <td>0</td>\n",
       "      <td>0</td>\n",
       "      <td>40</td>\n",
       "      <td>Cuba</td>\n",
       "      <td>&lt;=50K</td>\n",
       "    </tr>\n",
       "  </tbody>\n",
       "</table>\n",
       "</div>"
      ],
      "text/plain": [
       "   age         workclass  fnlwgt  education  education-num  \\\n",
       "0   39         State-gov   77516  Bachelors             13   \n",
       "1   50  Self-emp-not-inc   83311  Bachelors             13   \n",
       "2   38           Private  215646    HS-grad              9   \n",
       "3   53           Private  234721       11th              7   \n",
       "4   28           Private  338409  Bachelors             13   \n",
       "\n",
       "       marital-status         occupation   relationship   race     sex  \\\n",
       "0       Never-married       Adm-clerical  Not-in-family  White    Male   \n",
       "1  Married-civ-spouse    Exec-managerial        Husband  White    Male   \n",
       "2            Divorced  Handlers-cleaners  Not-in-family  White    Male   \n",
       "3  Married-civ-spouse  Handlers-cleaners        Husband  Black    Male   \n",
       "4  Married-civ-spouse     Prof-specialty           Wife  Black  Female   \n",
       "\n",
       "   capital-gain  capital-loss  hours-per-week native-country salary  \n",
       "0          2174             0              40  United-States  <=50K  \n",
       "1             0             0              13  United-States  <=50K  \n",
       "2             0             0              40  United-States  <=50K  \n",
       "3             0             0              40  United-States  <=50K  \n",
       "4             0             0              40           Cuba  <=50K  "
      ]
     },
     "execution_count": 2,
     "metadata": {},
     "output_type": "execute_result"
    }
   ],
   "source": [
    "import pandas as pd\n",
    "\n",
    "dataset_dir = \"datasets/classification/adult\"\n",
    "df = pd.read_csv(f\"{dataset_dir}/train.csv\")\n",
    "df.head()"
   ]
  },
  {
   "cell_type": "code",
   "execution_count": 3,
   "id": "e50671fe",
   "metadata": {},
   "outputs": [],
   "source": [
    "import numpy as np\n",
    "\n",
    "def clean_dataset(dataset: pd.DataFrame) -> pd.DataFrame:\n",
    "    \"\"\"\n",
    "    Sostituisce i valori '?' presenti nel dataset con NaN.\n",
    "\n",
    "    Parametri:\n",
    "        dataset (pd.DataFrame): Il dataset da elaborare.\n",
    "\n",
    "    Ritorna:\n",
    "        pd.DataFrame: Il dataset con i valori '?' sostituiti da NaN.\n",
    "    \"\"\"\n",
    "    return dataset.replace(['?', 'nan', 'NaN'], np.nan)"
   ]
  },
  {
   "cell_type": "code",
   "execution_count": 4,
   "id": "0ca4d579",
   "metadata": {},
   "outputs": [],
   "source": [
    "df = clean_dataset(df)"
   ]
  },
  {
   "cell_type": "code",
   "execution_count": 5,
   "id": "e40f54c4",
   "metadata": {},
   "outputs": [
    {
     "data": {
      "text/html": [
       "<style type=\"text/css\">\n",
       "#T_0cfb7_row11_col1, #T_0cfb7_row18_col1, #T_0cfb7_row20_col1 {\n",
       "  background-color: lightgreen;\n",
       "}\n",
       "</style>\n",
       "<table id=\"T_0cfb7\">\n",
       "  <thead>\n",
       "    <tr>\n",
       "      <th class=\"blank level0\" >&nbsp;</th>\n",
       "      <th id=\"T_0cfb7_level0_col0\" class=\"col_heading level0 col0\" >Description</th>\n",
       "      <th id=\"T_0cfb7_level0_col1\" class=\"col_heading level0 col1\" >Value</th>\n",
       "    </tr>\n",
       "  </thead>\n",
       "  <tbody>\n",
       "    <tr>\n",
       "      <th id=\"T_0cfb7_level0_row0\" class=\"row_heading level0 row0\" >0</th>\n",
       "      <td id=\"T_0cfb7_row0_col0\" class=\"data row0 col0\" >Session id</td>\n",
       "      <td id=\"T_0cfb7_row0_col1\" class=\"data row0 col1\" >123</td>\n",
       "    </tr>\n",
       "    <tr>\n",
       "      <th id=\"T_0cfb7_level0_row1\" class=\"row_heading level0 row1\" >1</th>\n",
       "      <td id=\"T_0cfb7_row1_col0\" class=\"data row1 col0\" >Target</td>\n",
       "      <td id=\"T_0cfb7_row1_col1\" class=\"data row1 col1\" >salary</td>\n",
       "    </tr>\n",
       "    <tr>\n",
       "      <th id=\"T_0cfb7_level0_row2\" class=\"row_heading level0 row2\" >2</th>\n",
       "      <td id=\"T_0cfb7_row2_col0\" class=\"data row2 col0\" >Target type</td>\n",
       "      <td id=\"T_0cfb7_row2_col1\" class=\"data row2 col1\" >Binary</td>\n",
       "    </tr>\n",
       "    <tr>\n",
       "      <th id=\"T_0cfb7_level0_row3\" class=\"row_heading level0 row3\" >3</th>\n",
       "      <td id=\"T_0cfb7_row3_col0\" class=\"data row3 col0\" >Target mapping</td>\n",
       "      <td id=\"T_0cfb7_row3_col1\" class=\"data row3 col1\" ><=50K: 0, >50K: 1</td>\n",
       "    </tr>\n",
       "    <tr>\n",
       "      <th id=\"T_0cfb7_level0_row4\" class=\"row_heading level0 row4\" >4</th>\n",
       "      <td id=\"T_0cfb7_row4_col0\" class=\"data row4 col0\" >Original data shape</td>\n",
       "      <td id=\"T_0cfb7_row4_col1\" class=\"data row4 col1\" >(32561, 15)</td>\n",
       "    </tr>\n",
       "    <tr>\n",
       "      <th id=\"T_0cfb7_level0_row5\" class=\"row_heading level0 row5\" >5</th>\n",
       "      <td id=\"T_0cfb7_row5_col0\" class=\"data row5 col0\" >Transformed data shape</td>\n",
       "      <td id=\"T_0cfb7_row5_col1\" class=\"data row5 col1\" >(32040, 65)</td>\n",
       "    </tr>\n",
       "    <tr>\n",
       "      <th id=\"T_0cfb7_level0_row6\" class=\"row_heading level0 row6\" >6</th>\n",
       "      <td id=\"T_0cfb7_row6_col0\" class=\"data row6 col0\" >Transformed train set shape</td>\n",
       "      <td id=\"T_0cfb7_row6_col1\" class=\"data row6 col1\" >(25527, 65)</td>\n",
       "    </tr>\n",
       "    <tr>\n",
       "      <th id=\"T_0cfb7_level0_row7\" class=\"row_heading level0 row7\" >7</th>\n",
       "      <td id=\"T_0cfb7_row7_col0\" class=\"data row7 col0\" >Transformed test set shape</td>\n",
       "      <td id=\"T_0cfb7_row7_col1\" class=\"data row7 col1\" >(6513, 65)</td>\n",
       "    </tr>\n",
       "    <tr>\n",
       "      <th id=\"T_0cfb7_level0_row8\" class=\"row_heading level0 row8\" >8</th>\n",
       "      <td id=\"T_0cfb7_row8_col0\" class=\"data row8 col0\" >Numeric features</td>\n",
       "      <td id=\"T_0cfb7_row8_col1\" class=\"data row8 col1\" >6</td>\n",
       "    </tr>\n",
       "    <tr>\n",
       "      <th id=\"T_0cfb7_level0_row9\" class=\"row_heading level0 row9\" >9</th>\n",
       "      <td id=\"T_0cfb7_row9_col0\" class=\"data row9 col0\" >Categorical features</td>\n",
       "      <td id=\"T_0cfb7_row9_col1\" class=\"data row9 col1\" >8</td>\n",
       "    </tr>\n",
       "    <tr>\n",
       "      <th id=\"T_0cfb7_level0_row10\" class=\"row_heading level0 row10\" >10</th>\n",
       "      <td id=\"T_0cfb7_row10_col0\" class=\"data row10 col0\" >Rows with missing values</td>\n",
       "      <td id=\"T_0cfb7_row10_col1\" class=\"data row10 col1\" >7.4%</td>\n",
       "    </tr>\n",
       "    <tr>\n",
       "      <th id=\"T_0cfb7_level0_row11\" class=\"row_heading level0 row11\" >11</th>\n",
       "      <td id=\"T_0cfb7_row11_col0\" class=\"data row11 col0\" >Preprocess</td>\n",
       "      <td id=\"T_0cfb7_row11_col1\" class=\"data row11 col1\" >True</td>\n",
       "    </tr>\n",
       "    <tr>\n",
       "      <th id=\"T_0cfb7_level0_row12\" class=\"row_heading level0 row12\" >12</th>\n",
       "      <td id=\"T_0cfb7_row12_col0\" class=\"data row12 col0\" >Imputation type</td>\n",
       "      <td id=\"T_0cfb7_row12_col1\" class=\"data row12 col1\" >iterative</td>\n",
       "    </tr>\n",
       "    <tr>\n",
       "      <th id=\"T_0cfb7_level0_row13\" class=\"row_heading level0 row13\" >13</th>\n",
       "      <td id=\"T_0cfb7_row13_col0\" class=\"data row13 col0\" >Iterative imputation iterations</td>\n",
       "      <td id=\"T_0cfb7_row13_col1\" class=\"data row13 col1\" >20</td>\n",
       "    </tr>\n",
       "    <tr>\n",
       "      <th id=\"T_0cfb7_level0_row14\" class=\"row_heading level0 row14\" >14</th>\n",
       "      <td id=\"T_0cfb7_row14_col0\" class=\"data row14 col0\" >Numeric iterative imputer</td>\n",
       "      <td id=\"T_0cfb7_row14_col1\" class=\"data row14 col1\" >lightgbm</td>\n",
       "    </tr>\n",
       "    <tr>\n",
       "      <th id=\"T_0cfb7_level0_row15\" class=\"row_heading level0 row15\" >15</th>\n",
       "      <td id=\"T_0cfb7_row15_col0\" class=\"data row15 col0\" >Categorical iterative imputer</td>\n",
       "      <td id=\"T_0cfb7_row15_col1\" class=\"data row15 col1\" >lightgbm</td>\n",
       "    </tr>\n",
       "    <tr>\n",
       "      <th id=\"T_0cfb7_level0_row16\" class=\"row_heading level0 row16\" >16</th>\n",
       "      <td id=\"T_0cfb7_row16_col0\" class=\"data row16 col0\" >Maximum one-hot encoding</td>\n",
       "      <td id=\"T_0cfb7_row16_col1\" class=\"data row16 col1\" >25</td>\n",
       "    </tr>\n",
       "    <tr>\n",
       "      <th id=\"T_0cfb7_level0_row17\" class=\"row_heading level0 row17\" >17</th>\n",
       "      <td id=\"T_0cfb7_row17_col0\" class=\"data row17 col0\" >Encoding method</td>\n",
       "      <td id=\"T_0cfb7_row17_col1\" class=\"data row17 col1\" >None</td>\n",
       "    </tr>\n",
       "    <tr>\n",
       "      <th id=\"T_0cfb7_level0_row18\" class=\"row_heading level0 row18\" >18</th>\n",
       "      <td id=\"T_0cfb7_row18_col0\" class=\"data row18 col0\" >Remove outliers</td>\n",
       "      <td id=\"T_0cfb7_row18_col1\" class=\"data row18 col1\" >True</td>\n",
       "    </tr>\n",
       "    <tr>\n",
       "      <th id=\"T_0cfb7_level0_row19\" class=\"row_heading level0 row19\" >19</th>\n",
       "      <td id=\"T_0cfb7_row19_col0\" class=\"data row19 col0\" >Outliers threshold</td>\n",
       "      <td id=\"T_0cfb7_row19_col1\" class=\"data row19 col1\" >0.020000</td>\n",
       "    </tr>\n",
       "    <tr>\n",
       "      <th id=\"T_0cfb7_level0_row20\" class=\"row_heading level0 row20\" >20</th>\n",
       "      <td id=\"T_0cfb7_row20_col0\" class=\"data row20 col0\" >Normalize</td>\n",
       "      <td id=\"T_0cfb7_row20_col1\" class=\"data row20 col1\" >True</td>\n",
       "    </tr>\n",
       "    <tr>\n",
       "      <th id=\"T_0cfb7_level0_row21\" class=\"row_heading level0 row21\" >21</th>\n",
       "      <td id=\"T_0cfb7_row21_col0\" class=\"data row21 col0\" >Normalize method</td>\n",
       "      <td id=\"T_0cfb7_row21_col1\" class=\"data row21 col1\" >zscore</td>\n",
       "    </tr>\n",
       "    <tr>\n",
       "      <th id=\"T_0cfb7_level0_row22\" class=\"row_heading level0 row22\" >22</th>\n",
       "      <td id=\"T_0cfb7_row22_col0\" class=\"data row22 col0\" >Fold Generator</td>\n",
       "      <td id=\"T_0cfb7_row22_col1\" class=\"data row22 col1\" >StratifiedKFold</td>\n",
       "    </tr>\n",
       "    <tr>\n",
       "      <th id=\"T_0cfb7_level0_row23\" class=\"row_heading level0 row23\" >23</th>\n",
       "      <td id=\"T_0cfb7_row23_col0\" class=\"data row23 col0\" >Fold Number</td>\n",
       "      <td id=\"T_0cfb7_row23_col1\" class=\"data row23 col1\" >10</td>\n",
       "    </tr>\n",
       "    <tr>\n",
       "      <th id=\"T_0cfb7_level0_row24\" class=\"row_heading level0 row24\" >24</th>\n",
       "      <td id=\"T_0cfb7_row24_col0\" class=\"data row24 col0\" >CPU Jobs</td>\n",
       "      <td id=\"T_0cfb7_row24_col1\" class=\"data row24 col1\" >-1</td>\n",
       "    </tr>\n",
       "    <tr>\n",
       "      <th id=\"T_0cfb7_level0_row25\" class=\"row_heading level0 row25\" >25</th>\n",
       "      <td id=\"T_0cfb7_row25_col0\" class=\"data row25 col0\" >Use GPU</td>\n",
       "      <td id=\"T_0cfb7_row25_col1\" class=\"data row25 col1\" >False</td>\n",
       "    </tr>\n",
       "    <tr>\n",
       "      <th id=\"T_0cfb7_level0_row26\" class=\"row_heading level0 row26\" >26</th>\n",
       "      <td id=\"T_0cfb7_row26_col0\" class=\"data row26 col0\" >Log Experiment</td>\n",
       "      <td id=\"T_0cfb7_row26_col1\" class=\"data row26 col1\" >False</td>\n",
       "    </tr>\n",
       "    <tr>\n",
       "      <th id=\"T_0cfb7_level0_row27\" class=\"row_heading level0 row27\" >27</th>\n",
       "      <td id=\"T_0cfb7_row27_col0\" class=\"data row27 col0\" >Experiment Name</td>\n",
       "      <td id=\"T_0cfb7_row27_col1\" class=\"data row27 col1\" >clf-default-name</td>\n",
       "    </tr>\n",
       "    <tr>\n",
       "      <th id=\"T_0cfb7_level0_row28\" class=\"row_heading level0 row28\" >28</th>\n",
       "      <td id=\"T_0cfb7_row28_col0\" class=\"data row28 col0\" >USI</td>\n",
       "      <td id=\"T_0cfb7_row28_col1\" class=\"data row28 col1\" >332a</td>\n",
       "    </tr>\n",
       "  </tbody>\n",
       "</table>\n"
      ],
      "text/plain": [
       "<pandas.io.formats.style.Styler at 0xffff3a11e610>"
      ]
     },
     "metadata": {},
     "output_type": "display_data"
    },
    {
     "name": "stdout",
     "output_type": "stream",
     "text": [
      "Loading profile... Please Wait!\n",
      "Profiler Failed. No output to show, continue with modeling.\n"
     ]
    },
    {
     "data": {
      "text/plain": [
       "<pycaret.classification.oop.ClassificationExperiment at 0xffff5bf49cd0>"
      ]
     },
     "execution_count": 5,
     "metadata": {},
     "output_type": "execute_result"
    }
   ],
   "source": [
    "# https://pycaret.readthedocs.io/en/stable/api/classification.html\n",
    "\n",
    "from pycaret.classification import ClassificationExperiment\n",
    "from pycaret.classification import *\n",
    "\n",
    "claexp = ClassificationExperiment()\n",
    "claexp.setup(session_id=123,\n",
    "             data=df,\n",
    "             target='salary',\n",
    "             imputation_type='iterative',\n",
    "             iterative_imputation_iters=20, # default is 5\n",
    "             numeric_iterative_imputer='lightgbm', # default is 'lightgbm'\n",
    "             categorical_iterative_imputer='lightgbm', # default is 'lightgbm'\n",
    "             remove_outliers=True,\n",
    "             outliers_threshold=0.02, # default is 0.05\n",
    "             outliers_method='iforest', # default is 'iforest'\n",
    "            #  transformation=True,\n",
    "             transformation_method='yeo-johnson', # default is 'yeo-johnson'\n",
    "             normalize=True,\n",
    "             normalize_method='zscore', # default is 'zscore'\n",
    "            #  pca=True,\n",
    "             pca_method='linear', # default is 'linear'\n",
    "             pca_components=0.95,\n",
    "             train_size=0.8,\n",
    "             numeric_features=['age', 'fnlwgt', 'education-num', 'capital-gain', 'capital-loss', 'hours-per-week'],\n",
    "             categorical_features=['workclass', 'education', 'marital-status', 'occupation', 'relationship', 'race', 'sex', 'native-country'],\n",
    "            #  use_gpu=True,\n",
    "            #  log_plots=True,\n",
    "            #  log_experiment=True,\n",
    "            #  experiment_name='adult_classification_experiment',\n",
    "            #  log_data=True,\n",
    "            #  log_profile=True,\n",
    "            profile=True\n",
    "             )\n"
   ]
  },
  {
   "cell_type": "code",
   "execution_count": 6,
   "metadata": {},
   "outputs": [
    {
     "data": {
      "text/plain": [
       "pandas.core.frame.DataFrame"
      ]
     },
     "execution_count": 6,
     "metadata": {},
     "output_type": "execute_result"
    }
   ],
   "source": [
    "type(claexp.dataset_transformed)"
   ]
  },
  {
   "cell_type": "code",
   "execution_count": 7,
   "id": "ac065e16",
   "metadata": {},
   "outputs": [],
   "source": [
    "claexp.dataset_transformed.head()\n",
    "# Salva il dataset trasformato\n",
    "claexp.dataset_transformed.to_csv(f\"{dataset_dir}/train_transformed.csv\", index=False)"
   ]
  },
  {
   "cell_type": "code",
   "execution_count": 199,
   "id": "c823ff0a",
   "metadata": {},
   "outputs": [],
   "source": [
    "# calcola gli indici delle righe che non sono presenti\n",
    "# nel dataset trasformato (ovvero rimosse da pycaret)\n",
    "removed_rows = df.index.difference(claexp.dataset_transformed.index)\n",
    "\n",
    "# le righe rimosse che presentavano valori NaN\n",
    "rows_with_nan = df.loc[removed_rows][df.loc[removed_rows].isna().any(axis=1)]\n",
    "\n",
    "# le rimanenti righe rimosse, considerate come outliers\n",
    "rows_outliers = df.loc[removed_rows][~df.loc[removed_rows].isna().any(axis=1)]\n",
    "\n",
    "print(f\"Righe rimosse per presenza di valori NaN: {len(rows_with_nan)}\")\n",
    "# print(rows_with_nan)\n",
    "\n",
    "print(f\"\\nRighe rimosse come outliers: {len(rows_outliers)}\")\n",
    "# print(len(rows_outliers))"
   ]
  },
  {
   "cell_type": "code",
   "execution_count": 200,
   "id": "55b4643d",
   "metadata": {},
   "outputs": [],
   "source": [
    "claexp.models()"
   ]
  },
  {
   "cell_type": "code",
   "execution_count": 201,
   "id": "5042aa88",
   "metadata": {},
   "outputs": [],
   "source": [
    "top3 = claexp.compare_models(n_select=3)"
   ]
  },
  {
   "cell_type": "code",
   "execution_count": null,
   "id": "9aae5a83",
   "metadata": {},
   "outputs": [],
   "source": [
    "import os\n",
    "\n",
    "for model in top3:\n",
    "    print(f\"Saving plots of {model.__class__.__name__}\")\n",
    "\n",
    "    output_dir = f\"img/classification/{model.__class__.__name__}\"\n",
    "    os.makedirs(name=output_dir, exist_ok=True)\n",
    "\n",
    "    try:\n",
    "        claexp.plot_model(model, save=output_dir, plot = 'confusion_matrix')\n",
    "        claexp.plot_model(model, save=output_dir, plot = 'error')\n",
    "        # claexp.plot_model(best, save=\"img/\", plot = 'learning')\n",
    "        claexp.plot_model(model, save=output_dir, plot = 'manifold')\n",
    "        claexp.plot_model(model, save=output_dir, plot = 'class_report')\n",
    "        claexp.plot_model(model, save=output_dir, plot = 'auc')\n",
    "        claexp.plot_model(model, save=output_dir, plot = 'pr')\n",
    "        claexp.plot_model(model, save=output_dir, plot = 'feature_all')\n",
    "        claexp.plot_model(model, save=output_dir, plot = 'feature')\n",
    "    except Exception as e:\n",
    "        print(f\"Errore durante la generazione del plot per {model.__class__.__name__}: {e}\")"
   ]
  },
  {
   "cell_type": "code",
   "execution_count": null,
   "id": "e8a4c7d7",
   "metadata": {},
   "outputs": [],
   "source": [
    "print(\"Learning rate best models:\")\n",
    "for model in top3:\n",
    "    print(f\"{model.__class__.__name__}: {model.learning_rate if hasattr(model, 'learning_rate') else 'N/A'}\")"
   ]
  },
  {
   "cell_type": "code",
   "execution_count": 205,
   "id": "c183e97c",
   "metadata": {},
   "outputs": [],
   "source": [
    "holdout_pred = [claexp.predict_model(model, raw_score=True) for model in top3]"
   ]
  },
  {
   "cell_type": "code",
   "execution_count": 193,
   "id": "de7bacc5",
   "metadata": {},
   "outputs": [],
   "source": [
    "unseen_df = pd.read_csv(\"datasets/classification/adult/train.csv\")\n",
    "# unseen_df.head()"
   ]
  },
  {
   "cell_type": "code",
   "execution_count": 206,
   "id": "495f2a47",
   "metadata": {},
   "outputs": [],
   "source": [
    "holdout_pred = [claexp.predict_model(estimator=model,\n",
    "                                    data=unseen_df,\n",
    "                                    raw_score=True\n",
    "                                    )\n",
    "                for model in top3]"
   ]
  },
  {
   "cell_type": "code",
   "execution_count": 151,
   "id": "baf0833b",
   "metadata": {},
   "outputs": [],
   "source": [
    "claexp.get_metrics()"
   ]
  },
  {
   "cell_type": "code",
   "execution_count": 195,
   "id": "7358eb53",
   "metadata": {},
   "outputs": [],
   "source": [
    "# tuned_top3 = [claexp.tune_model(i) for i in top3]"
   ]
  },
  {
   "cell_type": "code",
   "execution_count": 196,
   "id": "4d343930",
   "metadata": {},
   "outputs": [],
   "source": [
    "# blender = claexp.blend_models(tuned_top3)\n",
    "# stacker = claexp.stack_models(tuned_top3, return_train_score=True)\n",
    "# best_auc_model = claexp.automl(optimize='Recall', return_train_score=True)"
   ]
  },
  {
   "cell_type": "code",
   "execution_count": null,
   "id": "66233d79",
   "metadata": {},
   "outputs": [],
   "source": []
  },
  {
   "cell_type": "markdown",
   "id": "e7a4e90b",
   "metadata": {},
   "source": [
    "# Regressione"
   ]
  },
  {
   "cell_type": "code",
   "execution_count": 58,
   "id": "4ec8bb16",
   "metadata": {},
   "outputs": [],
   "source": [
    "from pycaret.regression import RegressionExperiment\n",
    "regexp = RegressionExperiment()\n",
    "regexp.setup(session_id=123,\n",
    "             data=df,\n",
    "             target='writing score',\n",
    "             imputation_type='iterative'\n",
    "             )\n",
    "type(regexp.dataset_transformed)\n",
    "regexp.dataset_transformed.head()"
   ]
  },
  {
   "cell_type": "code",
   "execution_count": 59,
   "id": "225c7ed5",
   "metadata": {},
   "outputs": [],
   "source": [
    "best = regexp.compare_models()"
   ]
  },
  {
   "cell_type": "code",
   "execution_count": 64,
   "id": "5a0a2a93",
   "metadata": {},
   "outputs": [],
   "source": [
    "from pycaret.regression import *\n",
    "regexp.plot_model(best, plot = 'feature')"
   ]
  },
  {
   "cell_type": "code",
   "execution_count": 65,
   "id": "ef1461ea",
   "metadata": {},
   "outputs": [],
   "source": [
    "holdout_pred = regexp.predict_model(best)"
   ]
  },
  {
   "cell_type": "code",
   "execution_count": 66,
   "id": "8f31c666",
   "metadata": {},
   "outputs": [],
   "source": [
    "holdout_pred.head()"
   ]
  },
  {
   "cell_type": "code",
   "execution_count": 67,
   "id": "7af219d1",
   "metadata": {},
   "outputs": [],
   "source": [
    "! pip install sdv"
   ]
  },
  {
   "cell_type": "code",
   "execution_count": 68,
   "id": "512ccf31",
   "metadata": {},
   "outputs": [],
   "source": [
    "! pip freeze | grep sdv"
   ]
  },
  {
   "cell_type": "code",
   "execution_count": 70,
   "id": "6f317358",
   "metadata": {},
   "outputs": [],
   "source": [
    "from sdv.datasets.demo import download_demo\n",
    "\n",
    "real_data, metadata = download_demo(\n",
    "    modality='single_table',\n",
    "    dataset_name='fake_hotel_guests')"
   ]
  },
  {
   "cell_type": "code",
   "execution_count": 71,
   "id": "4c870dde",
   "metadata": {},
   "outputs": [],
   "source": [
    "from sdv.single_table import GaussianCopulaSynthesizer\n",
    "\n",
    "synthesizer = GaussianCopulaSynthesizer(metadata)\n",
    "synthesizer.fit(data=real_data)"
   ]
  },
  {
   "cell_type": "code",
   "execution_count": 72,
   "id": "5bd9ad24",
   "metadata": {},
   "outputs": [],
   "source": [
    "synthetic_data = synthesizer.sample(num_rows=500)"
   ]
  },
  {
   "cell_type": "code",
   "execution_count": 73,
   "id": "05964779",
   "metadata": {},
   "outputs": [],
   "source": [
    "from sdv.evaluation.single_table import evaluate_quality\n",
    "\n",
    "quality_report = evaluate_quality(\n",
    "    real_data,\n",
    "    synthetic_data,\n",
    "    metadata)"
   ]
  }
 ],
 "metadata": {
  "kernelspec": {
   "display_name": "Python 3 (ipykernel)",
   "language": "python",
   "name": "python3"
  },
  "language_info": {
   "codemirror_mode": {
    "name": "ipython",
    "version": 3
   },
   "file_extension": ".py",
   "mimetype": "text/x-python",
   "name": "python",
   "nbconvert_exporter": "python",
   "pygments_lexer": "ipython3",
   "version": "3.11.6"
  }
 },
 "nbformat": 4,
 "nbformat_minor": 5
}
