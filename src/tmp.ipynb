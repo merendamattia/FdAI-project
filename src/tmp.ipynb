{
 "cells": [
  {
   "cell_type": "code",
   "execution_count": null,
   "id": "ed9f8746",
   "metadata": {},
   "outputs": [],
   "source": [
    "import pandas as pd\n",
    "\n",
    "dataset_dir = \"./datasets/classification/census_income\"\n",
    "df = pd.read_csv(f\"{dataset_dir}/train.csv\")\n",
    "df.head()"
   ]
  },
  {
   "cell_type": "code",
   "execution_count": null,
   "id": "e50671fe",
   "metadata": {},
   "outputs": [],
   "source": [
    "import numpy as np\n",
    "\n",
    "def clean_dataset(dataset: pd.DataFrame) -> pd.DataFrame:\n",
    "    \"\"\"\n",
    "    Sostituisce i valori '?' presenti nel dataset con NaN.\n",
    "\n",
    "    Parametri:\n",
    "        dataset (pd.DataFrame): Il dataset da elaborare.\n",
    "\n",
    "    Ritorna:\n",
    "        pd.DataFrame: Il dataset con i valori '?' sostituiti da NaN.\n",
    "    \"\"\"\n",
    "    return dataset.replace(['?', 'nan', 'NaN'], np.nan)"
   ]
  },
  {
   "cell_type": "code",
   "execution_count": null,
   "id": "0ca4d579",
   "metadata": {},
   "outputs": [],
   "source": [
    "df = clean_dataset(df)"
   ]
  },
  {
   "cell_type": "code",
   "execution_count": null,
   "id": "e40f54c4",
   "metadata": {},
   "outputs": [],
   "source": [
    "# https://pycaret.readthedocs.io/en/stable/api/classification.html\n",
    "\n",
    "from pycaret.classification import ClassificationExperiment\n",
    "from pycaret.classification import *\n",
    "\n",
    "claexp = ClassificationExperiment()\n",
    "claexp.setup(session_id=123,\n",
    "             data=df,\n",
    "             target='salary',\n",
    "             imputation_type='iterative',\n",
    "             iterative_imputation_iters=20, # default is 5\n",
    "             numeric_iterative_imputer='lightgbm', # default is 'lightgbm'\n",
    "             categorical_iterative_imputer='lightgbm', # default is 'lightgbm'\n",
    "             remove_outliers=True,\n",
    "             outliers_threshold=0.02, # default is 0.05\n",
    "             outliers_method='iforest', # default is 'iforest'\n",
    "            #  transformation=True,\n",
    "             transformation_method='yeo-johnson', # default is 'yeo-johnson'\n",
    "             normalize=True,\n",
    "             normalize_method='zscore', # default is 'zscore'\n",
    "            #  pca=True,\n",
    "             pca_method='linear', # default is 'linear'\n",
    "             pca_components=0.95,\n",
    "             train_size=0.8,\n",
    "             numeric_features=['age', 'fnlwgt', 'education-num', 'capital-gain', 'capital-loss', 'hours-per-week'],\n",
    "             categorical_features=['workclass', 'education', 'marital-status', 'occupation', 'relationship', 'race', 'sex', 'native-country'],\n",
    "            #  use_gpu=True,\n",
    "            #  log_plots=True,\n",
    "            #  log_experiment=True,\n",
    "            #  experiment_name='adult_classification_experiment',\n",
    "            #  log_data=True,\n",
    "            #  log_profile=True,\n",
    "            profile=True\n",
    "             )\n"
   ]
  },
  {
   "cell_type": "code",
   "execution_count": null,
   "metadata": {},
   "outputs": [],
   "source": [
    "type(claexp.dataset_transformed)"
   ]
  },
  {
   "cell_type": "code",
   "execution_count": null,
   "id": "ac065e16",
   "metadata": {},
   "outputs": [],
   "source": [
    "claexp.dataset_transformed.head()\n",
    "# Salva il dataset trasformato\n",
    "claexp.dataset_transformed.to_csv(f\"{dataset_dir}/train_transformed.csv\", index=False)"
   ]
  },
  {
   "cell_type": "code",
   "execution_count": null,
   "id": "c823ff0a",
   "metadata": {},
   "outputs": [],
   "source": [
    "# calcola gli indici delle righe che non sono presenti\n",
    "# nel dataset trasformato (ovvero rimosse da pycaret)\n",
    "removed_rows = df.index.difference(claexp.dataset_transformed.index)\n",
    "\n",
    "# le righe rimosse che presentavano valori NaN\n",
    "rows_with_nan = df.loc[removed_rows][df.loc[removed_rows].isna().any(axis=1)]\n",
    "\n",
    "# le rimanenti righe rimosse, considerate come outliers\n",
    "rows_outliers = df.loc[removed_rows][~df.loc[removed_rows].isna().any(axis=1)]\n",
    "\n",
    "print(f\"Righe rimosse per presenza di valori NaN: {len(rows_with_nan)}\")\n",
    "# print(rows_with_nan)\n",
    "\n",
    "print(f\"\\nRighe rimosse come outliers: {len(rows_outliers)}\")\n",
    "# print(len(rows_outliers))"
   ]
  },
  {
   "cell_type": "code",
   "execution_count": null,
   "id": "55b4643d",
   "metadata": {},
   "outputs": [],
   "source": [
    "claexp.models()"
   ]
  },
  {
   "cell_type": "code",
   "execution_count": null,
   "id": "5042aa88",
   "metadata": {},
   "outputs": [],
   "source": [
    "top3 = claexp.compare_models(n_select=3)"
   ]
  },
  {
   "cell_type": "code",
   "execution_count": null,
   "id": "9aae5a83",
   "metadata": {},
   "outputs": [],
   "source": [
    "import os\n",
    "\n",
    "for model in top3:\n",
    "    print(f\"Saving plots of {model.__class__.__name__}\")\n",
    "\n",
    "    output_dir = f\"img/classification/{model.__class__.__name__}\"\n",
    "    os.makedirs(name=output_dir, exist_ok=True)\n",
    "\n",
    "    try:\n",
    "        claexp.plot_model(model, save=output_dir, plot = 'confusion_matrix')\n",
    "        claexp.plot_model(model, save=output_dir, plot = 'error')\n",
    "        # claexp.plot_model(best, save=\"img/\", plot = 'learning')\n",
    "        claexp.plot_model(model, save=output_dir, plot = 'manifold')\n",
    "        claexp.plot_model(model, save=output_dir, plot = 'class_report')\n",
    "        claexp.plot_model(model, save=output_dir, plot = 'auc')\n",
    "        claexp.plot_model(model, save=output_dir, plot = 'pr')\n",
    "        claexp.plot_model(model, save=output_dir, plot = 'feature_all')\n",
    "        claexp.plot_model(model, save=output_dir, plot = 'feature')\n",
    "    except Exception as e:\n",
    "        print(f\"Errore durante la generazione del plot per {model.__class__.__name__}: {e}\")"
   ]
  },
  {
   "cell_type": "code",
   "execution_count": null,
   "id": "e8a4c7d7",
   "metadata": {},
   "outputs": [],
   "source": [
    "print(\"Learning rate best models:\")\n",
    "for model in top3:\n",
    "    print(f\"{model.__class__.__name__}: {model.learning_rate if hasattr(model, 'learning_rate') else 'N/A'}\")"
   ]
  },
  {
   "cell_type": "code",
   "execution_count": null,
   "id": "c183e97c",
   "metadata": {},
   "outputs": [],
   "source": [
    "holdout_pred = [claexp.predict_model(model, raw_score=True) for model in top3]"
   ]
  },
  {
   "cell_type": "code",
   "execution_count": null,
   "id": "de7bacc5",
   "metadata": {},
   "outputs": [],
   "source": [
    "unseen_df = pd.read_csv(\"datasets/classification/adult/train.csv\")\n",
    "# unseen_df.head()"
   ]
  },
  {
   "cell_type": "code",
   "execution_count": null,
   "id": "495f2a47",
   "metadata": {},
   "outputs": [],
   "source": [
    "holdout_pred = [claexp.predict_model(estimator=model,\n",
    "                                    data=unseen_df,\n",
    "                                    raw_score=True\n",
    "                                    )\n",
    "                for model in top3]"
   ]
  },
  {
   "cell_type": "code",
   "execution_count": null,
   "id": "baf0833b",
   "metadata": {},
   "outputs": [],
   "source": [
    "claexp.get_metrics()"
   ]
  },
  {
   "cell_type": "code",
   "execution_count": null,
   "id": "7358eb53",
   "metadata": {},
   "outputs": [],
   "source": [
    "# tuned_top3 = [claexp.tune_model(i) for i in top3]"
   ]
  },
  {
   "cell_type": "code",
   "execution_count": null,
   "id": "4d343930",
   "metadata": {},
   "outputs": [],
   "source": [
    "# blender = claexp.blend_models(tuned_top3)\n",
    "# stacker = claexp.stack_models(tuned_top3, return_train_score=True)\n",
    "# best_auc_model = claexp.automl(optimize='Recall', return_train_score=True)"
   ]
  },
  {
   "cell_type": "code",
   "execution_count": null,
   "id": "66233d79",
   "metadata": {},
   "outputs": [],
   "source": []
  },
  {
   "cell_type": "markdown",
   "id": "e7a4e90b",
   "metadata": {},
   "source": [
    "# Regressione"
   ]
  },
  {
   "cell_type": "code",
   "execution_count": null,
   "id": "4ec8bb16",
   "metadata": {},
   "outputs": [],
   "source": [
    "from pycaret.regression import RegressionExperiment\n",
    "regexp = RegressionExperiment()\n",
    "regexp.setup(session_id=123,\n",
    "             data=df,\n",
    "             target='writing score',\n",
    "             imputation_type='iterative'\n",
    "             )\n",
    "type(regexp.dataset_transformed)\n",
    "regexp.dataset_transformed.head()"
   ]
  },
  {
   "cell_type": "code",
   "execution_count": null,
   "id": "225c7ed5",
   "metadata": {},
   "outputs": [],
   "source": [
    "best = regexp.compare_models()"
   ]
  },
  {
   "cell_type": "code",
   "execution_count": null,
   "id": "5a0a2a93",
   "metadata": {},
   "outputs": [],
   "source": [
    "from pycaret.regression import *\n",
    "regexp.plot_model(best, plot = 'feature')"
   ]
  },
  {
   "cell_type": "code",
   "execution_count": null,
   "id": "ef1461ea",
   "metadata": {},
   "outputs": [],
   "source": [
    "holdout_pred = regexp.predict_model(best)"
   ]
  },
  {
   "cell_type": "code",
   "execution_count": null,
   "id": "8f31c666",
   "metadata": {},
   "outputs": [],
   "source": [
    "holdout_pred.head()"
   ]
  },
  {
   "cell_type": "code",
   "execution_count": null,
   "id": "7af219d1",
   "metadata": {},
   "outputs": [],
   "source": [
    "! pip install sdv"
   ]
  },
  {
   "cell_type": "code",
   "execution_count": null,
   "id": "512ccf31",
   "metadata": {},
   "outputs": [],
   "source": [
    "! pip freeze | grep sdv"
   ]
  },
  {
   "cell_type": "code",
   "execution_count": null,
   "id": "6f317358",
   "metadata": {},
   "outputs": [],
   "source": [
    "from sdv.datasets.demo import download_demo\n",
    "\n",
    "real_data, metadata = download_demo(\n",
    "    modality='single_table',\n",
    "    dataset_name='fake_hotel_guests')"
   ]
  },
  {
   "cell_type": "code",
   "execution_count": null,
   "id": "4c870dde",
   "metadata": {},
   "outputs": [],
   "source": [
    "from sdv.single_table import GaussianCopulaSynthesizer\n",
    "\n",
    "synthesizer = GaussianCopulaSynthesizer(metadata)\n",
    "synthesizer.fit(data=real_data)"
   ]
  },
  {
   "cell_type": "code",
   "execution_count": null,
   "id": "5bd9ad24",
   "metadata": {},
   "outputs": [],
   "source": [
    "synthetic_data = synthesizer.sample(num_rows=500)"
   ]
  },
  {
   "cell_type": "code",
   "execution_count": null,
   "id": "05964779",
   "metadata": {},
   "outputs": [],
   "source": [
    "from sdv.evaluation.single_table import evaluate_quality\n",
    "\n",
    "quality_report = evaluate_quality(\n",
    "    real_data,\n",
    "    synthetic_data,\n",
    "    metadata)"
   ]
  }
 ],
 "metadata": {
  "kernelspec": {
   "display_name": "AI",
   "language": "python",
   "name": "python3"
  },
  "language_info": {
   "codemirror_mode": {
    "name": "ipython",
    "version": 3
   },
   "file_extension": ".py",
   "mimetype": "text/x-python",
   "name": "python",
   "nbconvert_exporter": "python",
   "pygments_lexer": "ipython3",
   "version": "3.11.11"
  }
 },
 "nbformat": 4,
 "nbformat_minor": 5
}
